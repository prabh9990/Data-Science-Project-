{
 "cells": [
  {
   "cell_type": "code",
   "execution_count": 494,
   "metadata": {},
   "outputs": [],
   "source": [
    "# importing all the libraries\n",
    "\n",
    "import requests\n",
    "from bs4 import BeautifulSoup\n",
    "from statistics import mean\n",
    "from matplotlib import pyplot as plt\n",
    "import pandas as np"
   ]
  },
  {
   "cell_type": "code",
   "execution_count": 495,
   "metadata": {},
   "outputs": [],
   "source": [
    "#Making Lists for the first page/Influencer\n",
    "\n",
    "itemPriceD= []\n",
    "itemListD= []\n",
    "dicList1= []\n",
    "\n",
    "#Requesting information from the website\n",
    "\n",
    "r= requests.get(\"https://fanjoy.co/collections/david-dobrik\")\n",
    "c=r.content\n",
    "\n",
    "#converting information to HTML form and storing it in a variable\n",
    "\n",
    "soup= BeautifulSoup(c,\"html.parser\")\n",
    "all=soup.find_all(\"div\", {\"class\":\"info\"})\n"
   ]
  },
  {
   "cell_type": "code",
   "execution_count": 496,
   "metadata": {},
   "outputs": [
    {
     "name": "stdout",
     "output_type": "stream",
     "text": [
      "[{'Item Name': 'David Dobrik Matcha Sunset Hoodie', 'Item Price': '67.00'}, {'Item Name': 'David Dobrik Matcha Sunset Shirt', 'Item Price': '40.00'}, {'Item Name': 'David Dobrik Pink Sunset Hoodie', 'Item Price': '67.00'}, {'Item Name': 'David Dobrik Pink Sunset Shirt', 'Item Price': '40.00'}, {'Item Name': 'David Dobrik Stone Gray Iridescent Shirt', 'Item Price': '40.00'}, {'Item Name': 'David Dobrik Stone Gray Iridescent Hoodie', 'Item Price': '67.00'}, {'Item Name': 'David Dobrik Birthday Title Card Hoodie', 'Item Price': '74.00'}, {'Item Name': 'David Dobrik Birthday Title Card Shirt', 'Item Price': '40.00'}, {'Item Name': 'David Dobrik Purple Cloud Hoodie', 'Item Price': '74.00'}, {'Item Name': 'David Dobrik Blue Cloud Hoodie', 'Item Price': '74.00'}, {'Item Name': 'David Dobrik Pigment Blue Shirt', 'Item Price': '34.00'}, {'Item Name': 'David Dobrik Pigment Purple Shirt', 'Item Price': '34.00'}, {'Item Name': 'David Dobrik Mint Beverly Hoodie', 'Item Price': '67.00'}, {'Item Name': 'David Dobrik Pink Beverly Hoodie', 'Item Price': '67.00'}, {'Item Name': 'David Dobrik Vintage Black Beverly Hoodie', 'Item Price': 'Sold Out'}, {'Item Name': 'David Dobrik Yellow Beverly Shirt', 'Item Price': '38.00'}, {'Item Name': 'David Dobrik Black Beverly Shirt', 'Item Price': '38.00'}, {'Item Name': 'David Dobrik Campus Clickbait Hoodie', 'Item Price': '54.00'}, {'Item Name': 'David Dobrik Campus Clickbait T-Shirt', 'Item Price': 'Sold Out'}, {'Item Name': 'David Dobrik Official Clickbait Patch Hoodie', 'Item Price': '67.00'}]\n"
     ]
    }
   ],
   "source": [
    "#Loop for iterating through lines of HTML \n",
    "\n",
    "for items in all:\n",
    "\n",
    "    dic1= {}   #Variable to store information in Dictionary datatype\n",
    "    \n",
    "#Checking all the data containing Hoodies and Shirts  \n",
    "\n",
    "    if \"Hoodie\" in (items.find(\"span\", {\"class\":\"title\"}).text) or \"Shirt\" in (items.find(\"span\", {\"class\":\"title\"}).text):\n",
    "\n",
    "\n",
    "# Appending the names of the items in a list\n",
    "\n",
    "        itemListD.append(items.find(\"span\", {\"class\":\"title\"}).text)\n",
    "        dic1[\"Item Name\"]=items.find(\"span\", {\"class\":\"title\"}).text\n",
    "\n",
    "\n",
    "# Seperating item that are on sale and scraping just the original pricing\n",
    "\n",
    "        if items.find(\"span\",{\"class\": \"price sale\"}) in items:\n",
    "\n",
    "            try:\n",
    "                itemPriceD.append(items.find_all(\"span\",{\"class\": \"money\"})[1].text.replace(\"$\",\"\"))\n",
    "                dic1[\"Item Price\"]= items.find_all(\"span\",{\"class\": \"money\"})[1].text.replace(\"$\",\"\")\n",
    "            except:\n",
    "                dic1[\"Item Price\"]=\"Sold Out\"\n",
    "        else: \n",
    "\n",
    "                try:\n",
    "                    itemPriceD.append(items.find(\"span\",{\"class\": \"money\"}).text.replace(\"$\",\"\"))\n",
    "                    dic1[\"Item Price\"]= items.find(\"span\",{\"class\": \"money\"}).text.replace(\"$\",\"\")\n",
    "                except:\n",
    "                    dic1[\"Item Price\"]=\"Sold Out\"\n",
    "\n",
    "    else:\n",
    "        continue\n",
    "\n",
    "#Appending all the dictionaries in a list\n",
    "    \n",
    "    dicList1.append(dic1)\n",
    "    \n",
    "#Printing out the List of dictionaries\n",
    "\n",
    "print(dicList1)"
   ]
  },
  {
   "cell_type": "code",
   "execution_count": 497,
   "metadata": {},
   "outputs": [],
   "source": [
    "#Requesting information from the website\n",
    "\n",
    "r= requests.get(\"https://fanjoy.co/collections/addison-rae\")\n",
    "c=r.content\n",
    "\n",
    "#Making Lists for the first page/Influencer\n",
    "\n",
    "itemPriceA= []\n",
    "itemListA= []\n",
    "dicList2= []\n",
    "\n",
    "#converting information to HTML form and storing it in a variable\n",
    "soup= BeautifulSoup(c,\"html.parser\")"
   ]
  },
  {
   "cell_type": "code",
   "execution_count": 498,
   "metadata": {},
   "outputs": [],
   "source": [
    "all=soup.find_all(\"div\", {\"class\":\"info\"})\n",
    "\n",
    "#Loop for iterating through lines of HTML \n",
    "\n",
    "for items in all:\n",
    "\n",
    "    dic2= {}\n",
    "    \n",
    "    #Checking all the data containing Hoodies and Shirts \n",
    "    \n",
    "    if \"Hoodie\" in (items.find(\"span\", {\"class\":\"title\"}).text) or \"Shirt\" in (items.find(\"span\", {\"class\":\"title\"}).text):\n",
    "       \n",
    "    # Appending the names of the items in a list\n",
    "    \n",
    "        itemListA.append(items.find(\"span\", {\"class\":\"title\"}).text)\n",
    "        dic2[\"Item Name\"]=items.find(\"span\", {\"class\":\"title\"}).text\n",
    " \n",
    "    # Seperating item that are on sale and scraping just the original pricing\n",
    "    \n",
    "        if items.find(\"span\",{\"class\": \"price sale\"}) in items:\n",
    "            \n",
    "            try:\n",
    "                itemPriceA.append(items.find_all(\"span\",{\"class\": \"money\"})[1].text.replace(\"$\",\"\"))\n",
    "                dic2[\"Item Price\"]= items.find_all(\"span\",{\"class\": \"money\"})[1].text.replace(\"$\",\"\")\n",
    "            except:\n",
    "                dic2[\"Item Price\"]=\"Sold Out\"\n",
    "        else: \n",
    "\n",
    "                try:\n",
    "                    itemPriceD.append(items.find(\"span\",{\"class\": \"money\"}).text.replace(\"$\",\"\"))\n",
    "                    dic2[\"Item Price\"]= items.find(\"span\",{\"class\": \"money\"}).text.replace(\"$\",\"\")\n",
    "                except:\n",
    "                    dic2[\"Item Price\"]=\"Sold Out\"\n",
    "        \n",
    "    else:\n",
    "        continue \n",
    "        \n",
    "    #Appending all the dictionaries in a list\n",
    "    \n",
    "    dicList2.append(dic2)\n"
   ]
  },
  {
   "cell_type": "code",
   "execution_count": 499,
   "metadata": {},
   "outputs": [
    {
     "name": "stdout",
     "output_type": "stream",
     "text": [
      "[{'Item Name': 'Addison Rae: I Need A Bad Bleep Black Hoodie', 'Item Price': '67.00'}, {'Item Name': 'Addison Rae: Pouty Face Pink Shirt', 'Item Price': '32.00'}, {'Item Name': 'Addison Rae: For You Mint Hoodie', 'Item Price': '62.00'}, {'Item Name': 'Addison Rae: Too Smiley For You Vintage Black Hoodie', 'Item Price': '62.00'}, {'Item Name': 'Addison Rae: For You Blue Shirt', 'Item Price': '20.00'}, {'Item Name': 'Addison Rae: Youth Pouty Face Pink Shirt', 'Item Price': '24.00'}, {'Item Name': 'Addison Rae: Youth For You Blue Shirt', 'Item Price': '24.00'}]\n"
     ]
    }
   ],
   "source": [
    "print(dicList2)   "
   ]
  },
  {
   "cell_type": "code",
   "execution_count": 500,
   "metadata": {},
   "outputs": [],
   "source": [
    "#Requesting information from the website\n",
    "\n",
    "r= requests.get(\"https://fanjoy.co/collections/bobby-mares\")\n",
    "c=r.content\n",
    "\n",
    "#Making Lists for the first page/Influencer\n",
    "\n",
    "itemPriceB= []\n",
    "itemListB= []\n",
    "dicList3= []\n",
    "\n",
    "#converting information to HTML form and storing it in a variable\n",
    "\n",
    "soup= BeautifulSoup(c,\"html.parser\")"
   ]
  },
  {
   "cell_type": "code",
   "execution_count": 526,
   "metadata": {},
   "outputs": [
    {
     "name": "stdout",
     "output_type": "stream",
     "text": [
      "[{'Item Name': 'Bobby Mares: Love Everyone Black Hoodie', 'Item Price': '60.00'}, {'Item Name': 'Bobby Mares: Love Everyone Black Shirt', 'Item Price': '34.00'}, {'Item Name': 'Bobby Mares Signature Hoodie', 'Item Price': '60.00'}, {'Item Name': 'Bobby Mares Teal Goodwolf Shirt', 'Item Price': 'Sold Out'}, {'Item Name': '0002 Goodwolf Black Shirt By Bobby Mares', 'Item Price': '34.00'}, {'Item Name': '0002 Goodwolf White Shirt By Bobby Mares', 'Item Price': '34.00'}, {'Item Name': 'Only U Cover Hoodie by Bobby Mares', 'Item Price': '60.00'}, {'Item Name': 'Bobby Mares: Love Everyone Black Hoodie', 'Item Price': '60.00'}, {'Item Name': 'Bobby Mares: Love Everyone Black Shirt', 'Item Price': '34.00'}, {'Item Name': 'Bobby Mares Signature Hoodie', 'Item Price': '60.00'}, {'Item Name': 'Bobby Mares Teal Goodwolf Shirt', 'Item Price': 'Sold Out'}, {'Item Name': '0002 Goodwolf Black Shirt By Bobby Mares', 'Item Price': '34.00'}, {'Item Name': '0002 Goodwolf White Shirt By Bobby Mares', 'Item Price': '34.00'}, {'Item Name': 'Only U Cover Hoodie by Bobby Mares', 'Item Price': '60.00'}]\n"
     ]
    }
   ],
   "source": [
    "all=soup.find_all(\"div\", {\"class\":\"info\"})\n",
    "\n",
    "#Loop for iterating through lines of HTML\n",
    "\n",
    "for items in all:\n",
    "    \n",
    "    dic3= {}\n",
    "    \n",
    "     #Checking all the data containing Hoodies and Shirts\n",
    "    \n",
    "    if \"Hoodie\" in (items.find(\"span\", {\"class\":\"title\"}).text) or \"Shirt\" in (items.find(\"span\", {\"class\":\"title\"}).text):\n",
    "        \n",
    "        # Appending the names of the items in a list\n",
    "        \n",
    "        itemListB.append(items.find(\"span\", {\"class\":\"title\"}).text)\n",
    "        dic3[\"Item Name\"]=items.find(\"span\", {\"class\":\"title\"}).text\n",
    " \n",
    "    # Seperating item that are on sale and scraping just the original pricing\n",
    "    \n",
    "        if items.find(\"span\",{\"class\": \"price sale\"}) in items:\n",
    "            \n",
    "            try:\n",
    "                itemPriceB.append(items.find_all(\"span\",{\"class\": \"money\"})[1].text.replace(\"$\",\"\"))\n",
    "                dic3[\"Item Price\"]= items.find_all(\"span\",{\"class\": \"money\"})[1].text.replace(\"$\",\"\")\n",
    "            except:\n",
    "                dic3[\"Item Price\"]= \"Sold Out\"\n",
    "        else: \n",
    "\n",
    "                try:\n",
    "                    itemPriceB.append(items.find(\"span\",{\"class\": \"money\"}).text.replace(\"$\",\"\"))\n",
    "                    dic3[\"Item Price\"]= items.find(\"span\",{\"class\": \"money\"}).text.replace(\"$\",\"\")\n",
    "                except:\n",
    "                    dic3[\"Item Price\"]= \"Sold Out\"\n",
    "        \n",
    "    else:\n",
    "        continue\n",
    "     \n",
    "    #Appending all the dictionaries in a list\n",
    "    \n",
    "    dicList3.append(dic3)\n",
    "    \n",
    "print(dicList3)"
   ]
  },
  {
   "cell_type": "code",
   "execution_count": 527,
   "metadata": {},
   "outputs": [],
   "source": [
    "#Converting the data of individual influencer into table form dataframe\n",
    "\n",
    "df= np.DataFrame(dicList1)\n",
    "df2= np.DataFrame(dicList2)\n",
    "df3= np.DataFrame(dicList3)"
   ]
  },
  {
   "cell_type": "code",
   "execution_count": 528,
   "metadata": {},
   "outputs": [],
   "source": [
    "#Converting the data to .csv files "
   ]
  },
  {
   "cell_type": "code",
   "execution_count": 529,
   "metadata": {},
   "outputs": [],
   "source": [
    "df.to_csv(\"Creator1.csv\")"
   ]
  },
  {
   "cell_type": "code",
   "execution_count": 530,
   "metadata": {},
   "outputs": [],
   "source": [
    "df2.to_csv(\"Creator2.csv\")"
   ]
  },
  {
   "cell_type": "code",
   "execution_count": 531,
   "metadata": {},
   "outputs": [],
   "source": [
    "df3.to_csv(\"Creator3.csv\")"
   ]
  },
  {
   "cell_type": "code",
   "execution_count": 508,
   "metadata": {},
   "outputs": [
    {
     "name": "stdout",
     "output_type": "stream",
     "text": [
      "[34.0, 34.0, 38.0, 38.0, 40.0, 40.0, 40.0, 40.0, 54.0, 67.0, 67.0, 67.0, 67.0, 67.0, 67.0, 74.0, 74.0, 74.0]\n",
      "54.55555555555556\n"
     ]
    }
   ],
   "source": [
    "#Type casting, sorting and cleaning up data\n",
    "\n",
    "itemPriceD = [float(i) for i in itemPriceD]\n",
    "\n",
    "itemPriceD= sorted(itemPriceD)\n",
    "\n",
    "#Calculating the average price a the cloths\n",
    "\n",
    "avgD= sum(itemPriceD)/ len(itemPriceD)\n"
   ]
  },
  {
   "cell_type": "code",
   "execution_count": 509,
   "metadata": {},
   "outputs": [
    {
     "name": "stdout",
     "output_type": "stream",
     "text": [
      "[60.0, 34.0, 60.0, 34.0, 34.0, 60.0]\n",
      "47.0\n"
     ]
    }
   ],
   "source": [
    "itemPriceB = [float(i) for i in itemPriceB]\n",
    "\n",
    "itemPriceB= sorted(itemPriceB)\n",
    "\n",
    "#Calculating the average price a the cloths\n",
    "\n",
    "avgB= sum(itemPriceB)/ len(itemPriceB)\n"
   ]
  },
  {
   "cell_type": "code",
   "execution_count": 523,
   "metadata": {},
   "outputs": [],
   "source": [
    "itemPriceA = [float(i) for i in itemPriceA]\n",
    "\n",
    "itemPriceA= sorted(itemPriceA)\n",
    "\n",
    "#Calculating the average price a the cloths\n",
    "\n",
    "avgA= sum(itemPriceA)/ len(itemPriceA)\n"
   ]
  },
  {
   "cell_type": "code",
   "execution_count": 524,
   "metadata": {},
   "outputs": [
    {
     "data": {
      "text/plain": [
       "Text(0, 0.5, 'Price of Hoodies and Shirts')"
      ]
     },
     "execution_count": 524,
     "metadata": {},
     "output_type": "execute_result"
    },
    {
     "data": {
      "image/png": "[encoded data removed]",
      "text/plain": [
       "<Figure size 432x288 with 1 Axes>"
      ]
     },
     "metadata": {
      "needs_background": "light"
     },
     "output_type": "display_data"
    }
   ],
   "source": [
    "#Plotting a graph to represent the difference in pricing of each influencer\n",
    "\n",
    "plt.plot(itemPriceA)\n",
    "plt.plot(itemPriceD)\n",
    "plt.plot(itemPriceB)\n",
    "\n",
    "plt.legend([\"Addison Rae\", \"David Dobrik\", \"Bobby Mares\"])\n",
    "plt.ylabel(\"Price of Hoodies and Shirts\")"
   ]
  },
  {
   "cell_type": "code",
   "execution_count": 525,
   "metadata": {},
   "outputs": [
    {
     "data": {
      "text/plain": [
       "Text(0, 0.5, 'Average price of a Hoodie or a Shirt')"
      ]
     },
     "execution_count": 525,
     "metadata": {},
     "output_type": "execute_result"
    },
    {
     "data": {
      "image/png": "[encoded data removed]",
      "text/plain": [
       "<Figure size 432x288 with 1 Axes>"
      ]
     },
     "metadata": {
      "needs_background": "light"
     },
     "output_type": "display_data"
    }
   ],
   "source": [
    "plt.bar(\"Bobby Mares\", avgA)\n",
    "plt.bar(\"David Dobrik\", avgD)\n",
    "plt.bar(\"Addison Rae\", avgB)\n",
    "\n",
    "plt.ylabel(\"Average price of a Hoodie or a Shirt\")"
   ]
  },
  {
   "cell_type": "code",
   "execution_count": null,
   "metadata": {},
   "outputs": [],
   "source": []
  }
 ],
 "metadata": {
  "kernelspec": {
   "display_name": "Python 3",
   "language": "python",
   "name": "python3"
  },
  "language_info": {
   "codemirror_mode": {
    "name": "ipython",
    "version": 3
   },
   "file_extension": ".py",
   "mimetype": "text/x-python",
   "name": "python",
   "nbconvert_exporter": "python",
   "pygments_lexer": "ipython3",
   "version": "3.8.2"
  }
 },
 "nbformat": 4,
 "nbformat_minor": 4
}
